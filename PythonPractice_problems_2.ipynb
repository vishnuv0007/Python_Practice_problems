{
  "nbformat": 4,
  "nbformat_minor": 0,
  "metadata": {
    "colab": {
      "provenance": [],
      "authorship_tag": "ABX9TyNngZabueY7tZqQDjfjUMYX",
      "include_colab_link": true
    },
    "kernelspec": {
      "name": "python3",
      "display_name": "Python 3"
    },
    "language_info": {
      "name": "python"
    }
  },
  "cells": [
    {
      "cell_type": "markdown",
      "metadata": {
        "id": "view-in-github",
        "colab_type": "text"
      },
      "source": [
        "<a href=\"https://colab.research.google.com/github/vishnuv0007/Python_Practice_problems/blob/main/PythonPractice_problems_2.ipynb\" target=\"_parent\"><img src=\"https://colab.research.google.com/assets/colab-badge.svg\" alt=\"Open In Colab\"/></a>"
      ]
    },
    {
      "cell_type": "markdown",
      "source": [
        "Question 1"
      ],
      "metadata": {
        "id": "BYMcxrkHbhb-"
      }
    },
    {
      "cell_type": "code",
      "source": [
        "string=input(\"Enter a string value: \")\n",
        "uniqueChar=[]\n",
        "stringLen=len(string)\n",
        "for i in range(0,stringLen): #this loop finds unique characters in the string\n",
        "  for j in uniqueChar:\n",
        "    if string[i]==j:\n",
        "      break\n",
        "  else:\n",
        "    uniqueChar.append(string[i])\n",
        "count=0\n",
        "for k in uniqueChar: #this loop counts each characters in the string\n",
        "  for m in range(0,stringLen):\n",
        "    if (k==string[m]):\n",
        "      count+=1\n",
        "  print(k,'-',count)\n",
        "  count=0"
      ],
      "metadata": {
        "colab": {
          "base_uri": "https://localhost:8080/"
        },
        "id": "qnrTDr32blHt",
        "outputId": "297df648-1265-4b07-d0f9-53963834b241"
      },
      "execution_count": 2,
      "outputs": [
        {
          "output_type": "stream",
          "name": "stdout",
          "text": [
            "Enter a string value: assembly\n",
            "a - 1\n",
            "s - 2\n",
            "e - 1\n",
            "m - 1\n",
            "b - 1\n",
            "l - 1\n",
            "y - 1\n"
          ]
        }
      ]
    },
    {
      "cell_type": "markdown",
      "source": [
        "Question 2"
      ],
      "metadata": {
        "id": "lEl-hzWENBUM"
      }
    },
    {
      "cell_type": "code",
      "source": [
        "def maxFn(a,b,c):\n",
        "\n",
        "  if (a>b and a>c):\n",
        "    return a\n",
        "  elif (b>a and b>c):\n",
        "    return b\n",
        "  else:\n",
        "    return c\n",
        "\n",
        "num1=int(input(\"Enter number 1: \"))\n",
        "num2=int(input(\"Enter number 2: \"))\n",
        "num3=int(input(\"Enter number 3: \"))\n",
        "maxNum=maxFn(num1,num2,num3)\n",
        "print(\"Largest number is \",maxNum)"
      ],
      "metadata": {
        "colab": {
          "base_uri": "https://localhost:8080/"
        },
        "id": "HxlZh5-_NDB5",
        "outputId": "fbe8b2a3-043e-4b7c-e677-a0a0be64ab92"
      },
      "execution_count": 30,
      "outputs": [
        {
          "output_type": "stream",
          "name": "stdout",
          "text": [
            "Enter number 1: 12\n",
            "Enter number 2: 34\n",
            "Enter number 3: 7\n",
            "Largest number is  34\n"
          ]
        }
      ]
    },
    {
      "cell_type": "markdown",
      "source": [
        "Question 3"
      ],
      "metadata": {
        "id": "bENQN9VAOVwK"
      }
    },
    {
      "cell_type": "code",
      "source": [
        "def exponent(base,exp):\n",
        "  return int(base**exp)\n",
        "\n",
        "b=int(input('Enter base: '))\n",
        "e=int(input('Enter exponent: '))\n",
        "print(\"output is: \",exponent(b,e))\n"
      ],
      "metadata": {
        "colab": {
          "base_uri": "https://localhost:8080/"
        },
        "id": "sE6E6Or7OXgq",
        "outputId": "1f258549-85ab-4883-a1cd-b8cdc1d84c9d"
      },
      "execution_count": 3,
      "outputs": [
        {
          "output_type": "stream",
          "name": "stdout",
          "text": [
            "Enter base: 4\n",
            "Enter exponent: 5\n",
            "output is:  1024\n"
          ]
        }
      ]
    },
    {
      "cell_type": "markdown",
      "source": [
        "Question 4"
      ],
      "metadata": {
        "id": "LA5w6S57g608"
      }
    },
    {
      "cell_type": "code",
      "source": [
        "def cube_calculator(n):\n",
        "  cube=0\n",
        "  for i in range (1,n):\n",
        "    cube = cube+(i**3)\n",
        "  return (cube)\n",
        "\n",
        "num=int(input(\"Enter a number\"))\n",
        "print(cube_calculator(num))\n"
      ],
      "metadata": {
        "colab": {
          "base_uri": "https://localhost:8080/"
        },
        "id": "9JNCI7C3hDX5",
        "outputId": "de8d9947-2841-4d70-9c9a-564fe3672794"
      },
      "execution_count": 6,
      "outputs": [
        {
          "output_type": "stream",
          "name": "stdout",
          "text": [
            "Enter a number4\n",
            "36\n"
          ]
        }
      ]
    },
    {
      "cell_type": "markdown",
      "source": [
        "Question 5"
      ],
      "metadata": {
        "id": "b1UGMlclfGPS"
      }
    },
    {
      "cell_type": "code",
      "source": [
        "for num in range(1,11):\n",
        "  if(num%2==0 and num%5==0):\n",
        "    print(\"FizzBuzz\",end=\" \")\n",
        "  elif(num%2==0):\n",
        "    print(\"Fizz\",end=\" \")\n",
        "  elif(num%5==0):\n",
        "    print(\"Buzz\",end=\" \")\n",
        "  else:\n",
        "    print(num,end=\" \")"
      ],
      "metadata": {
        "colab": {
          "base_uri": "https://localhost:8080/"
        },
        "id": "NQHSQNWYRjEY",
        "outputId": "5ae75fdf-e7cd-4adb-dbf8-1c6c52381f23"
      },
      "execution_count": null,
      "outputs": [
        {
          "output_type": "stream",
          "name": "stdout",
          "text": [
            "1 Fizz 3 Fizz Buzz Fizz 7 Fizz 9 FizzBuzz "
          ]
        }
      ]
    },
    {
      "cell_type": "markdown",
      "source": [
        "## Question 6"
      ],
      "metadata": {
        "id": "I3Ta4pxiXLI6"
      }
    },
    {
      "cell_type": "code",
      "source": [
        "#user needs to input the total count of numbers from which the most frequent item is to be found\n",
        "numTotal=int(input('Enter total count of numbers:'))\n",
        "numList=[] #list for storing the numbers from which the most frequent item is to be found\n",
        "numUnique=[] #list for storing the unique numbers from above list\n",
        "numDict={} #dictionary for storing the unique numbers as key and corresponding count as values\n",
        "count=0\n",
        "\n",
        "#loop for accepting numbers from users\n",
        "for i in range(1,numTotal+1):\n",
        "  num=input('Enter the numbers:')\n",
        "  numList.append(num)\n",
        "\n",
        "#loop for finding unique values from numList\n",
        "for j in numList:\n",
        "  if (j not in numUnique):\n",
        "    numUnique.append(j)\n",
        "\n",
        "#two for loops are used. Inner loop will iterate through all unique values.\n",
        "#second loop will iterate throgh original number list and find count corresponding to each unique values\n",
        "#and update in a dicionary viz numDict (this dictionary will have unique numbers as key and correponding count as values )\n",
        "for k in numUnique:\n",
        "  numBase=k\n",
        "  for l in numList:\n",
        "    if (l==k):\n",
        "      count+=1\n",
        "  numDict.update({k:count})\n",
        "  count=0\n",
        "\n",
        "KeyList=list(numDict.keys()) #from the dictionary numDict, we take the keys and store as a list\n",
        "firstKey=KeyList[0]   #take first key from numDict\n",
        "num_with_maxcount=firstKey\n",
        "\n",
        "#loop for finding maximum value in dictionary (this will give maximum count)\n",
        "for m in KeyList:\n",
        "  if(numDict[m]>numDict[num_with_maxcount]):\n",
        "    num_with_maxcount=m\n",
        "\n",
        "\n",
        "print('Number with most frequent occurrence is: ',num_with_maxcount)"
      ],
      "metadata": {
        "colab": {
          "base_uri": "https://localhost:8080/"
        },
        "id": "XKtrcj-JXQaC",
        "outputId": "732c41dd-854d-4ebd-a395-c630457e59a1"
      },
      "execution_count": 10,
      "outputs": [
        {
          "output_type": "stream",
          "name": "stdout",
          "text": [
            "Enter total count of numbers:6\n",
            "Enter the numbers:2\n",
            "Enter the numbers:3\n",
            "Enter the numbers:4\n",
            "Enter the numbers:2\n",
            "Enter the numbers:5\n",
            "Enter the numbers:2\n",
            "Number with most frequent occurrence is:  2\n"
          ]
        }
      ]
    },
    {
      "cell_type": "markdown",
      "source": [
        "Question 7"
      ],
      "metadata": {
        "id": "mfpuExMBh6fW"
      }
    },
    {
      "cell_type": "code",
      "source": [
        "ans='y'\n",
        "squareList=[]\n",
        "squareResult=0\n",
        "while ans=='y':\n",
        "  squareList.append(int(input('Enter the numbers:')))\n",
        "  ans=input('Do u want to enter more numbers?(y/n)')\n",
        "\n",
        "for i in squareList:\n",
        "  squareResult = squareResult + (i**2)\n",
        "print(squareResult)\n"
      ],
      "metadata": {
        "colab": {
          "base_uri": "https://localhost:8080/"
        },
        "id": "OsrvuV7Ee-Pb",
        "outputId": "262566b6-66cf-47fa-d911-de240c8ed24c"
      },
      "execution_count": 11,
      "outputs": [
        {
          "output_type": "stream",
          "name": "stdout",
          "text": [
            "Enter the numbers:2\n",
            "Do u want to enter more numbers?(y/n)y\n",
            "Enter the numbers:1\n",
            "Do u want to enter more numbers?(y/n)y\n",
            "Enter the numbers:3\n",
            "Do u want to enter more numbers?(y/n)y\n",
            "Enter the numbers:1\n",
            "Do u want to enter more numbers?(y/n)n\n",
            "15\n"
          ]
        }
      ]
    },
    {
      "cell_type": "markdown",
      "source": [
        "Question 8"
      ],
      "metadata": {
        "id": "s7YR0VeVDOyl"
      }
    },
    {
      "cell_type": "code",
      "source": [
        "for i in range(1,16):\n",
        "  if(i%2==0):\n",
        "    print(i,\"-even\")\n",
        "  else:\n",
        "    print(i,\"-odd\")"
      ],
      "metadata": {
        "colab": {
          "base_uri": "https://localhost:8080/"
        },
        "id": "ykTWDS2wDQZP",
        "outputId": "42f0b5ef-a34d-4135-edfa-01a11f37e2a6"
      },
      "execution_count": null,
      "outputs": [
        {
          "output_type": "stream",
          "name": "stdout",
          "text": [
            "1 -odd\n",
            "2 -even\n",
            "3 -odd\n",
            "4 -even\n",
            "5 -odd\n",
            "6 -even\n",
            "7 -odd\n",
            "8 -even\n",
            "9 -odd\n",
            "10 -even\n",
            "11 -odd\n",
            "12 -even\n",
            "13 -odd\n",
            "14 -even\n",
            "15 -odd\n"
          ]
        }
      ]
    },
    {
      "cell_type": "markdown",
      "source": [
        "Question 9"
      ],
      "metadata": {
        "id": "SKtC1irfDs1G"
      }
    },
    {
      "cell_type": "code",
      "source": [
        "conv=int(input('Enter 1 for converting temperature from Celcius to Fahrenheit,'\n",
        "                '2 for converting temperature from Fahrenheit to Celcius: '))\n",
        "if conv==1:\n",
        "  tempC=float(input('Enter temperature in Celcius: '))\n",
        "  tempF=((9/5)*tempC) + 32\n",
        "  print('temperature in Fahrenheit is: ',tempF )\n",
        "\n",
        "elif conv==2:\n",
        "  tempF=float(input('Enter temperature in Fahrenheit: '))\n",
        "  tempC=(5/9)*(tempF - 32)\n",
        "  print('Temperature in Celcius is: ',tempC )\n",
        "\n",
        "else:\n",
        "  print('Wrong input')\n"
      ],
      "metadata": {
        "id": "I-HACQqFDsd5",
        "colab": {
          "base_uri": "https://localhost:8080/"
        },
        "outputId": "22c0750d-1970-4466-f498-9fdb037dc18f"
      },
      "execution_count": 32,
      "outputs": [
        {
          "output_type": "stream",
          "name": "stdout",
          "text": [
            "Enter 1 for converting temperature from Celcius to Fahrenheit,2 for converting temperature from Fahrenheit to Celcius: 2\n",
            "Enter temperature in Fahrenheit: 41\n",
            "Temperature in Celcius is:  5.0\n"
          ]
        }
      ]
    },
    {
      "cell_type": "markdown",
      "source": [
        "Question 10\n"
      ],
      "metadata": {
        "id": "r8USDdgNgr2a"
      }
    },
    {
      "cell_type": "code",
      "source": [
        "def factorial(num):\n",
        "  factorial_num=1\n",
        "  for i in range(1,num+1):\n",
        "    factorial_num=factorial_num*i\n",
        "  return factorial_num\n",
        "\n",
        "number=int(input('Enter number whose factorial is to be found: '))\n",
        "print('Factorial of {0} is {1}'.format(number,factorial(number)))\n"
      ],
      "metadata": {
        "colab": {
          "base_uri": "https://localhost:8080/"
        },
        "id": "-C81WSY9gtHz",
        "outputId": "fa2558dc-a58c-4482-a676-8e298a7db084"
      },
      "execution_count": 25,
      "outputs": [
        {
          "output_type": "stream",
          "name": "stdout",
          "text": [
            "Enter number whose factorial is to be found: 6\n",
            "Factorial of 6 is 720\n"
          ]
        }
      ]
    }
  ]
}