{
  "nbformat": 4,
  "nbformat_minor": 0,
  "metadata": {
    "colab": {
      "provenance": [],
      "authorship_tag": "ABX9TyNGjbTZN/44fschhS3KQQWl",
      "include_colab_link": true
    },
    "kernelspec": {
      "name": "python3",
      "display_name": "Python 3"
    },
    "language_info": {
      "name": "python"
    }
  },
  "cells": [
    {
      "cell_type": "markdown",
      "metadata": {
        "id": "view-in-github",
        "colab_type": "text"
      },
      "source": [
        "<a href=\"https://colab.research.google.com/github/vishnuv0007/Python_Practice_problems/blob/main/Python_Practice_problems_1.ipynb\" target=\"_parent\"><img src=\"https://colab.research.google.com/assets/colab-badge.svg\" alt=\"Open In Colab\"/></a>"
      ]
    },
    {
      "cell_type": "markdown",
      "source": [
        "Question 1"
      ],
      "metadata": {
        "id": "U_s6rV9xEukl"
      }
    },
    {
      "cell_type": "code",
      "execution_count": null,
      "metadata": {
        "colab": {
          "base_uri": "https://localhost:8080/"
        },
        "id": "lKcOgGXNEnBE",
        "outputId": "df9b9645-9399-4e14-a9c8-29a37a6966f7"
      },
      "outputs": [
        {
          "output_type": "stream",
          "name": "stdout",
          "text": [
            "Enter the radius: 3\n",
            "Area of Circle is 28.274333882308138\n"
          ]
        }
      ],
      "source": [
        "import math  #math module is for using value of pi\n",
        "radius=int(input('Enter the radius: '))\n",
        "area=(math.pi)*(radius**2)\n",
        "print('Area of Circle is',area)"
      ]
    },
    {
      "cell_type": "markdown",
      "source": [
        "Question 2"
      ],
      "metadata": {
        "id": "XCz0iemZFIFF"
      }
    },
    {
      "cell_type": "code",
      "source": [
        "studentDetails={} #student details will be stored in a dictionary\n",
        "studentKey=['name','rollno','mark'] #this list stores the key of above dictionary\n",
        "for i in studentKey:\n",
        "  detail=input('Enter the {0}: '.format(i))\n",
        "  studentDetails[i]=detail\n",
        "print(\"Name:{0}\\nRoll No:{1}\\nMark:{2}\\n\".format(studentDetails['name'],studentDetails['rollno'],studentDetails['mark']))\n"
      ],
      "metadata": {
        "colab": {
          "base_uri": "https://localhost:8080/"
        },
        "id": "2yEW_AG4FAVU",
        "outputId": "97219a2e-72f3-4b17-b7ae-98856e190a5f"
      },
      "execution_count": null,
      "outputs": [
        {
          "output_type": "stream",
          "name": "stdout",
          "text": [
            "Enter the name: Anisha\n",
            "Enter the rollno: 21\n",
            "Enter the mark: 78\n",
            "Name:Anisha\n",
            "Roll No:21\n",
            "Mark:78\n",
            "\n"
          ]
        }
      ]
    },
    {
      "cell_type": "markdown",
      "source": [
        "Question 3"
      ],
      "metadata": {
        "id": "68p9b2fXGB9k"
      }
    },
    {
      "cell_type": "code",
      "source": [
        "sample_input=[] #list for storing the sample numbers which are entered by the user\n",
        "\n",
        "numTotal=int(input('Enter total count of numbers in the list whose largest is to be found:')) #this variable accepts total count of numbers in the list from the user\n",
        "\n",
        "#this for loop accepts the numbers in the list from user one after the other\n",
        "for i in range(1,numTotal+1):\n",
        "  sample_input.append(int(input('Enter number {0}  :'.format(i))))\n",
        "\n",
        "max=sample_input[0]\n",
        "#this for loop calculates the largest number from the list\n",
        "for i in sample_input:\n",
        "  if i>max:\n",
        "    max=i\n",
        "print('Largest number in the list is',max)"
      ],
      "metadata": {
        "colab": {
          "base_uri": "https://localhost:8080/"
        },
        "id": "VAL4pIIIGDA2",
        "outputId": "f7429166-895d-4f19-c937-d5fd8fadde9f"
      },
      "execution_count": null,
      "outputs": [
        {
          "output_type": "stream",
          "name": "stdout",
          "text": [
            "Enter total count of numbers in the list whose largest is to be found:4\n",
            "Enter number 1  :12\n",
            "Enter number 2  :3\n",
            "Enter number 3  :47\n",
            "Enter number 4  :10\n",
            "Largest number in the list is 47\n"
          ]
        }
      ]
    },
    {
      "cell_type": "markdown",
      "source": [
        "Question 4"
      ],
      "metadata": {
        "id": "IhpP-klwGxp1"
      }
    },
    {
      "cell_type": "code",
      "source": [
        "numberList=range(1,11)#this list contails numbers from 1 to 10\n",
        "for i in numberList:\n",
        "  print('Current Number: ',i,'Previous Number: ',i-1,'Sum: ',i+i-1)\n"
      ],
      "metadata": {
        "colab": {
          "base_uri": "https://localhost:8080/"
        },
        "id": "W8v1ZQAqGyuh",
        "outputId": "16bf795a-a0c4-461e-95e8-261ef3442515"
      },
      "execution_count": null,
      "outputs": [
        {
          "output_type": "stream",
          "name": "stdout",
          "text": [
            "Current Number:  1 Previous Number:  0 Sum:  1\n",
            "Current Number:  2 Previous Number:  1 Sum:  3\n",
            "Current Number:  3 Previous Number:  2 Sum:  5\n",
            "Current Number:  4 Previous Number:  3 Sum:  7\n",
            "Current Number:  5 Previous Number:  4 Sum:  9\n",
            "Current Number:  6 Previous Number:  5 Sum:  11\n",
            "Current Number:  7 Previous Number:  6 Sum:  13\n",
            "Current Number:  8 Previous Number:  7 Sum:  15\n",
            "Current Number:  9 Previous Number:  8 Sum:  17\n",
            "Current Number:  10 Previous Number:  9 Sum:  19\n"
          ]
        }
      ]
    },
    {
      "cell_type": "markdown",
      "source": [
        "Question 5"
      ],
      "metadata": {
        "id": "592JL4kM24ui"
      }
    },
    {
      "cell_type": "code",
      "source": [
        "sample_input=[] #list for storing the sample numbers for checking divisibilty by 5\n",
        "ans='y'\n",
        "i=0\n",
        "\n",
        "#this for loop accepts the numbers from user one after the other and store in the list sample_input\n",
        "while ans=='y':\n",
        "  sample_input.append(int(input('Enter number {0}  :'.format(i+1))))\n",
        "  i+=1\n",
        "  ans=input('Do u want to enter more numbers?(y for yes and any other key for no)')\n",
        "\n",
        "for j in sample_input: #this loop checks whether the numbers in list sample_input are divisible by 5\n",
        "  if(j%5==0):\n",
        "    print(j,\",\",end=\" \")\n"
      ],
      "metadata": {
        "colab": {
          "base_uri": "https://localhost:8080/"
        },
        "id": "DMh8CFvh26Xz",
        "outputId": "ad65f220-e1d7-416b-a08f-b4f9336da89e"
      },
      "execution_count": null,
      "outputs": [
        {
          "output_type": "stream",
          "name": "stdout",
          "text": [
            "Enter number 1  :10\n",
            "Do u want to enter more numbers?(y for yes and any other key for no)y\n",
            "Enter number 2  :20\n",
            "Do u want to enter more numbers?(y for yes and any other key for no)y\n",
            "Enter number 3  :33\n",
            "Do u want to enter more numbers?(y for yes and any other key for no)y\n",
            "Enter number 4  :46\n",
            "Do u want to enter more numbers?(y for yes and any other key for no)y\n",
            "Enter number 5  :55\n",
            "Do u want to enter more numbers?(y for yes and any other key for no)n\n",
            "10 , 20 , 55 , "
          ]
        }
      ]
    },
    {
      "cell_type": "markdown",
      "source": [
        "Question 6"
      ],
      "metadata": {
        "id": "NcJy66NBUWTq"
      }
    },
    {
      "cell_type": "code",
      "source": [
        "num=int(input(\"Enter the number\"))\n",
        "flag=0\n",
        "if(num==1):  #1 is neither prime nor composite\n",
        "  print(num,\"is not a prime number\")\n",
        "elif(num>1):\n",
        "  for i in range(2,num):  #check whether the entered number is divisible by any other number less than original number, if yes it is not prime\n",
        "    if (num%i==0):\n",
        "      print(num,\"is not a prime number\")\n",
        "      flag=1\n",
        "      break\n",
        "\n",
        "  if(flag==0):\n",
        "    print(num,\"is a prime number\")\n",
        "\n",
        "else:  #this else checks whether the entered number is zero or negative\n",
        "    print(num,\" not a prime number\")"
      ],
      "metadata": {
        "colab": {
          "base_uri": "https://localhost:8080/"
        },
        "id": "Y9J6kQzKUXku",
        "outputId": "6bd54e21-2c2d-49f7-e421-eb0f3a648d48"
      },
      "execution_count": null,
      "outputs": [
        {
          "output_type": "stream",
          "name": "stdout",
          "text": [
            "Enter the number3\n",
            "3 is a prime number\n"
          ]
        }
      ]
    },
    {
      "cell_type": "markdown",
      "source": [
        "Question 7"
      ],
      "metadata": {
        "id": "KRhIXv40K4dX"
      }
    },
    {
      "cell_type": "code",
      "source": [
        "A=[10,40,30,70]\n",
        "B=[]\n",
        "lenght_A=len(A)\n",
        "\n",
        "for i in range((lenght_A-1),-1,-1):\n",
        "  B.append(A[i])\n",
        "\n",
        "print(B)\n"
      ],
      "metadata": {
        "id": "nMVQWbqlHMbq",
        "colab": {
          "base_uri": "https://localhost:8080/"
        },
        "outputId": "0739dc37-2ee8-4930-cd91-bb9e16daa5fd"
      },
      "execution_count": null,
      "outputs": [
        {
          "output_type": "stream",
          "name": "stdout",
          "text": [
            "[70, 30, 40, 10]\n"
          ]
        }
      ]
    },
    {
      "cell_type": "markdown",
      "source": [
        "Question 8"
      ],
      "metadata": {
        "id": "Z8oRjejB-5g5"
      }
    },
    {
      "cell_type": "code",
      "source": [
        "for i in range(0,4):\n",
        "  for j in range(0,i+1):\n",
        "    print('*',end=' ')\n",
        "  print('\\n')"
      ],
      "metadata": {
        "colab": {
          "base_uri": "https://localhost:8080/"
        },
        "id": "YoZoVXxH-7Qx",
        "outputId": "6e734761-ee89-4cba-d43a-a6aa36337b6e"
      },
      "execution_count": null,
      "outputs": [
        {
          "output_type": "stream",
          "name": "stdout",
          "text": [
            "* \n",
            "\n",
            "* * \n",
            "\n",
            "* * * \n",
            "\n",
            "* * * * \n",
            "\n"
          ]
        }
      ]
    },
    {
      "cell_type": "markdown",
      "source": [
        "Question 9"
      ],
      "metadata": {
        "id": "cMVZ0lDD_amx"
      }
    },
    {
      "cell_type": "code",
      "source": [
        "sample_input=[]\n",
        "for i in range(1,4):\n",
        "  sample_input.append(int(input('Enter number {0}  :'.format(i))))\n",
        "maxNum=sample_input[0]\n",
        "for k in sample_input:\n",
        "  if k>maxNum:\n",
        "    maxNum=k\n",
        "print('Largest number in the list is',maxNum)\n",
        "\n",
        "\n"
      ],
      "metadata": {
        "colab": {
          "base_uri": "https://localhost:8080/"
        },
        "id": "KstHEdZQ_cUW",
        "outputId": "622001fb-7e81-4b08-9339-ffc1d0760521"
      },
      "execution_count": null,
      "outputs": [
        {
          "output_type": "stream",
          "name": "stdout",
          "text": [
            "Enter number 1  :34\n",
            "Enter number 2  :12\n",
            "Enter number 3  :7\n",
            "Largest number in the list is 34\n"
          ]
        }
      ]
    },
    {
      "cell_type": "markdown",
      "source": [
        "Question 10"
      ],
      "metadata": {
        "id": "2JeHo1QIUba_"
      }
    },
    {
      "cell_type": "code",
      "source": [
        "for i in range (1,10):\n",
        "  if(i<=5):  #this if prints first 5 rows\n",
        "    for j in range (1,i+1):\n",
        "      print ('*',end=' ')\n",
        "\n",
        "  else:      #this else prints last 4 rows\n",
        "    for j in range (10-i,0,-1):\n",
        "      print ('*',end=' ')\n",
        "  print('\\n')"
      ],
      "metadata": {
        "colab": {
          "base_uri": "https://localhost:8080/"
        },
        "id": "QhvcckmzUcuR",
        "outputId": "70679a0a-1510-4958-e529-2c87bf5c0f07"
      },
      "execution_count": null,
      "outputs": [
        {
          "output_type": "stream",
          "name": "stdout",
          "text": [
            "* \n",
            "\n",
            "* * \n",
            "\n",
            "* * * \n",
            "\n",
            "* * * * \n",
            "\n",
            "* * * * * \n",
            "\n",
            "* * * * \n",
            "\n",
            "* * * \n",
            "\n",
            "* * \n",
            "\n",
            "* \n",
            "\n"
          ]
        }
      ]
    }
  ]
}